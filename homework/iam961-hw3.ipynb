{
 "cells": [
  {
   "cell_type": "markdown",
   "metadata": {},
   "source": [
    "# IAM 961 HW3\n",
    "\n",
    "## Problem 1: Rayleigh Quotient iteration\n",
    "\n",
    "Implement Rayleigh quotient iteration and demsontrate its convergence, as follows. \n",
    "Hint: develop and test your code using a small matrix (maybe 5 x 5). When you've got everything working, reset to a larger matrix (maybe 32 x 32, maybe 100 x 100) and recalculate from the beginning. \n",
    "\n",
    "Note: the line counts listed below are guidelines, not requirements. They're meant to let you know how roughly how much code each line should require. If you're writing more, you're working too hard. \n",
    "\n",
    "**Step 1**  Construct a random real symmetric $M \\times M$ matrix $A$ with random but known eigenvalues and eigenvectors. Hint: construct $A$ from a random orthogonal matrix $V$ and a known random diagonal matrix $D$. (4 lines of code)"
   ]
  },
  {
   "cell_type": "code",
   "execution_count": null,
   "metadata": {
    "collapsed": true
   },
   "outputs": [],
   "source": []
  },
  {
   "cell_type": "markdown",
   "metadata": {},
   "source": [
    "**Step 2** Select a diagonal element of $D$ and the corresponding column $V$, assigning them to variables $\\lambda_t$ and $v_t$ (subscript $t$ stands for \"true\"). Verify numerically that these are an eigenvalue/eigenvector pair. (3 or 4 lines of code). "
   ]
  },
  {
   "cell_type": "code",
   "execution_count": null,
   "metadata": {
    "collapsed": true
   },
   "outputs": [],
   "source": []
  },
  {
   "cell_type": "markdown",
   "metadata": {},
   "source": [
    "**Step 3** To get initial values for the Rayleigh quotient iteration, perturb the eigenvector by 20% or so, normalize it to unit length, and then evaluate the Rayleigh quotient. Use variable names $\\lambda$ and $v$. (4 lines of code)"
   ]
  },
  {
   "cell_type": "code",
   "execution_count": null,
   "metadata": {
    "collapsed": true
   },
   "outputs": [],
   "source": []
  },
  {
   "cell_type": "markdown",
   "metadata": {},
   "source": [
    "** Step 4** Now write a loop to do the Rayleigh quotient iteration. Stop when \n",
    "$\\| A v - \\lambda v\\| < 10^{-13}$. Before the loop and at each step, compute the norm of the error in both the eigenvalue and eigenvector, and save into a vector for later plotting. (10 lines of code)"
   ]
  },
  {
   "cell_type": "markdown",
   "metadata": {},
   "source": []
  },
  {
   "cell_type": "markdown",
   "metadata": {},
   "source": [
    "**Step 5** Plot the errors in the eigenvalue and eigenvector as a function of the iteration number, together in one plot. The Rayleigh quotient iteration code takes about 3 lines of code, the plotting more. Don't forget to label your axes and provide a legend. \n",
    "(5 lines of code)."
   ]
  },
  {
   "cell_type": "code",
   "execution_count": null,
   "metadata": {
    "collapsed": true
   },
   "outputs": [],
   "source": []
  },
  {
   "cell_type": "markdown",
   "metadata": {},
   "source": [
    "**Questions** (a) Are you amazed, or what? (b) Can you confirm that the errors scale as stated on page 208 of Trefethen and Bau?"
   ]
  },
  {
   "cell_type": "code",
   "execution_count": null,
   "metadata": {
    "collapsed": true
   },
   "outputs": [],
   "source": []
  },
  {
   "cell_type": "markdown",
   "metadata": {},
   "source": [
    "## Problem 2: GMRES\n",
    "\n",
    "Implement GMRES and investigate its convergence as a function of the matrix condition number, as follows. \n",
    "\n",
    "**Step 1** Construct a random real $M \\times M$ matrix $A$ with condition $\\kappa$ and exponentially graded singular values $\\sigma_n = \\kappa^{-(n-1)/(M-1)}$. For testing start with $M=5$ and $\\kappa = 10^4$."
   ]
  },
  {
   "cell_type": "code",
   "execution_count": null,
   "metadata": {
    "collapsed": true
   },
   "outputs": [],
   "source": []
  },
  {
   "cell_type": "markdown",
   "metadata": {},
   "source": [
    "** Step 2** Let $x$ be a random M vector with normally-distributed components, and let $b = A x$."
   ]
  },
  {
   "cell_type": "code",
   "execution_count": null,
   "metadata": {
    "collapsed": true
   },
   "outputs": [],
   "source": []
  },
  {
   "cell_type": "markdown",
   "metadata": {},
   "source": [
    "**Step 3** Implement GMRES iteration to approximate the solution of $Ax=b$ within the succession of Krylov subspaces. Save the normalized residual $\\| A x_n - b\\|/\\|b\\|$ and the normalized $x$ error $\\| x_n - x \\|$ at each step $n$ of the iteration for later plotting.\n",
    "\n",
    "Your GMRES code should go all the way to $n=M$ iterations. Your code should have a for-loop to handle iterations $n=1$ to $M-1$ followed by some special-case code to handle the last $n=M$th iterate, since the last iteration works a little differently. "
   ]
  },
  {
   "cell_type": "code",
   "execution_count": null,
   "metadata": {
    "collapsed": true
   },
   "outputs": [],
   "source": []
  },
  {
   "cell_type": "markdown",
   "metadata": {},
   "source": [
    "**Step 4** Once your code is working (the residual is $10^{-14}$ or $10^{-15}$ at the last iterate), set $M$ to a moderately small number like 100 and produce two plots, one of residual versus $n$, and one of $x$ error versus $n$. On each plot, overlay results for $\\kappa=10^4$ and $\\kappa=10^{16}$."
   ]
  },
  {
   "cell_type": "markdown",
   "metadata": {},
   "source": []
  },
  {
   "cell_type": "markdown",
   "metadata": {},
   "source": [
    "Discuss your results. Is anything surprising? What can you explain about the behavior of the plots, given what you know about GMRES and $Ax=b$ problems in general?"
   ]
  },
  {
   "cell_type": "code",
   "execution_count": null,
   "metadata": {
    "collapsed": true
   },
   "outputs": [],
   "source": []
  }
 ],
 "metadata": {
  "kernelspec": {
   "display_name": "Julia 0.6.4",
   "language": "julia",
   "name": "julia-0.6"
  },
  "language_info": {
   "file_extension": ".jl",
   "mimetype": "application/julia",
   "name": "julia",
   "version": "0.6.0"
  }
 },
 "nbformat": 4,
 "nbformat_minor": 2
}
