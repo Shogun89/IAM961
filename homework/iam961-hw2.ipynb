{
 "cells": [
  {
   "cell_type": "markdown",
   "metadata": {},
   "source": [
    "# IAM 961 HW2: QR decomp\n",
    "\n",
    "Due Monday Nov 13, 2017.\n",
    "\n",
    "## Problem 1.\n",
    "Write the following Julia functions for computing the QR decomposition of a matrix\n",
    "  + `qrcgs(A)` via Classical Gram-Schmidt orthogonalization,\n",
    "  + `qrmgs(A)` via Modified Gram-Schmidt orthogonalization, and\n",
    "  + `qrhouse(A)` via Householder triangularization.\n",
    "  \n",
    "Each function should return the two matrices Q and R."
   ]
  },
  {
   "cell_type": "code",
   "execution_count": 110,
   "metadata": {},
   "outputs": [
    {
     "data": {
      "text/plain": [
       "qrhouse (generic function with 1 method)"
      ]
     },
     "execution_count": 110,
     "metadata": {},
     "output_type": "execute_result"
    }
   ],
   "source": [
    "function qrcgs(A)\n",
    "    # fill in\n",
    "end\n",
    "\n",
    "function qrmgs(A)\n",
    "    # fill in\n",
    "end\n",
    "\n",
    "function qrhouse(A)\n",
    "    # fill in\n",
    "end  "
   ]
  },
  {
   "cell_type": "markdown",
   "metadata": {},
   "source": [
    "## Problem 2.\n",
    "Test that your QR algorithms work correctly on a fairly small and well-conditioned matrix (e.g. a 5 x 5 matrix with normally distributed elements, `A = randn(5,5)`).  You should test that $Q$ is unitary and that $QR \\approx A$. Verify to your own satisfaction that $R$ is upper-triangular. Make these tests as compact and readable as you can!"
   ]
  },
  {
   "cell_type": "code",
   "execution_count": null,
   "metadata": {
    "scrolled": false
   },
   "outputs": [],
   "source": []
  },
  {
   "cell_type": "markdown",
   "metadata": {},
   "source": [
    "## Problem 3. \n",
    "Write a `backsub(R,b)` function that returns the solution $x$ of the upper-triangular system $Rx=b$ by backsubstitution. You can assume that $R$ is square and nonsingular. Test your backsubstitution function by solving an $Ax=b$ problem with your 5 x 5 $A$ matrix, one of your QR algorithms, and a known solution $x$. \n"
   ]
  },
  {
   "cell_type": "code",
   "execution_count": 111,
   "metadata": {},
   "outputs": [
    {
     "data": {
      "text/plain": [
       "backsub (generic function with 1 method)"
      ]
     },
     "execution_count": 111,
     "metadata": {},
     "output_type": "execute_result"
    }
   ],
   "source": [
    "function backsub(R, b)\n",
    "    # fill in\n",
    "end\n"
   ]
  },
  {
   "cell_type": "markdown",
   "metadata": {},
   "source": [
    "## Problem 4. \n",
    "Write a function `A = randommatrix(m,n kappa)` function that returns an m x n\n",
    "random matrix with condition number kappa and exponentially graded singular values\n",
    "(i.e. $\\sigma_1/\\sigma_m = \\kappa$ and $\\sigma_{j+1}/\\sigma_{j} = \\text{const}$). \n",
    "You can use the Matlab code at the top of pg 65 in Trefethen and Bau as a starting \n",
    "point. Test that it works by constructing a 4 x 4 matrix with kappa=10^8 and then \n",
    "computing its condition number. "
   ]
  },
  {
   "cell_type": "code",
   "execution_count": 45,
   "metadata": {},
   "outputs": [
    {
     "data": {
      "text/plain": [
       "randommatrix (generic function with 1 method)"
      ]
     },
     "execution_count": 45,
     "metadata": {},
     "output_type": "execute_result"
    }
   ],
   "source": [
    "function randommatrix(m,n, kappa)\n",
    "    # fill in\n",
    "end"
   ]
  },
  {
   "cell_type": "markdown",
   "metadata": {},
   "source": [
    "## Problem 5.\n",
    "Solve a large number of random $Ax=b$ problems using your QR decompositions\n",
    "and `randommatrix` and `backsubstitution` functions, and produce a scatter \n",
    "plot of the normalized solution error  $\\|\\hat{x}-x\\|/\\|x\\|$ versus $\\kappa$. \n",
    "Plot data points from CGS in blue, MGS in red, and Householder in green.\n",
    "\n",
    "Specifically: Construct a random $A$ matrix with $\\kappa = 10^n$ where $n$ is \n",
    "a random real-valued number uniformly distributed between 0 and 18. \n",
    "Select a random $x$ vector with `x = randn(m,1)`, and then set $b = Ax$. For each of\n",
    "the CGS, MGS, and Householder QR algorithms, compute the numerical solution $\\hat{x}$ \n",
    "of $Ax=b$ via QR and then plot $\\|\\hat{x}-x\\|/\\|x\\|$ versus $\\kappa$ using log-log axes\n",
    "and the color scheme specified above.  Do this for a hundred or so random $Ax=b$ problems and \n",
    "for a fairly small value of $m$ (perhaps 10 or 20). "
   ]
  },
  {
   "cell_type": "code",
   "execution_count": null,
   "metadata": {},
   "outputs": [],
   "source": []
  },
  {
   "cell_type": "markdown",
   "metadata": {},
   "source": [
    "## Problem 6 \n",
    "Comment on your results. What can you explain about the scatter plots \n",
    "based on the algorithms and their implementation in finite-precision arithmetic?\n",
    "Or, contrariwise, what can you say about the algorithms based on the scatter \n",
    "plots? "
   ]
  },
  {
   "cell_type": "code",
   "execution_count": null,
   "metadata": {
    "collapsed": true
   },
   "outputs": [],
   "source": []
  },
  {
   "cell_type": "markdown",
   "metadata": {},
   "source": [
    "## Problem 7\n",
    "If you are curious, repeat problem 5 for a different value of $m$ \n",
    "(perhaps $m=100$). Does the dimensionality of the matrix (the value of $m$) \n",
    "make any difference?"
   ]
  },
  {
   "cell_type": "code",
   "execution_count": null,
   "metadata": {},
   "outputs": [],
   "source": []
  }
 ],
 "metadata": {
  "anaconda-cloud": {},
  "kernelspec": {
   "display_name": "Julia 0.6.4",
   "language": "julia",
   "name": "julia-0.6"
  },
  "language_info": {
   "file_extension": ".jl",
   "mimetype": "application/julia",
   "name": "julia",
   "version": "0.6.0"
  }
 },
 "nbformat": 4,
 "nbformat_minor": 1
}
