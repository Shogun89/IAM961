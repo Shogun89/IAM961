{
 "cells": [
  {
   "cell_type": "markdown",
   "metadata": {},
   "source": [
    "# IAM 961 HW 1\n",
    "\n",
    "\n",
    "**Problem 1:** Show that matrix multiplication is associative, $A(BC) = (AB)C$, for appropriately sized matrices.\n",
    "\n",
    "**Problem 2:** Given that $A^{-1} A = I$ for an invertible matrix $A$, prove that $A A^{-1} = I$. \n",
    "\n",
    "**Problem 3:** Show that $(AB)^* = B^* A^*$, where $^*$ indicates the Hermitian conjugate.\n",
    "\n",
    "**Problem 4:** Show that $(AB)^{-1} = B^{-1} A^{-1}$.\n",
    "\n"
   ]
  }
 ],
 "metadata": {
  "kernelspec": {
   "display_name": "Julia 0.6.4",
   "language": "julia",
   "name": "julia-0.6"
  },
  "language_info": {
   "file_extension": ".jl",
   "mimetype": "application/julia",
   "name": "julia",
   "version": "0.6.0"
  }
 },
 "nbformat": 4,
 "nbformat_minor": 2
}
