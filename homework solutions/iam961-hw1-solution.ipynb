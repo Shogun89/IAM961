{
 "cells": [
  {
   "cell_type": "markdown",
   "metadata": {},
   "source": [
    "# IAM 961 HW 1\n",
    "\n",
    "\n",
    "**Problem 1:** Show that matrix multiplication is associative, $A(BC) = (AB)C$, for appropriately sized matrices.\n",
    "\n",
    "First we note the definition of matrix multiplication given as \n",
    "\n",
    "$$ (AB)_{ij} = \\sum_{k} A_{ik}B_{kj} $$\n",
    "\n",
    "We then have the matrix product from above written as \n",
    "\n",
    "$$ ((AB)C)_{ij} = \\sum_{k} (AB)_{ik}C_{kj} $$\n",
    "\n",
    "If we replace the inner part of the line above\n",
    "\n",
    "$$ (AB)_{ik} = \\sum_{l} A_{il}B_{lk}  $$\n",
    "\n",
    "\n",
    "$$ ((AB)C)_{ij} = \\sum_{k} \\sum_{l} A_{il}B_{lk}C_{kj} $$\n",
    "\n",
    "We can do a similar thing with $(A(BC))_{ij}$\n",
    "\n",
    "$$ (A(BC))_{ij} = \\sum_{k} A_{ik}(BC)_{kj}  $$\n",
    "\n",
    "Following the idea from above we have\n",
    "\n",
    "$$ (BC)_{kj} = \\sum_{m} B_{km}C_{mj}  $$\n",
    "\n",
    "Which gives us \n",
    "\n",
    "$$ (A(BC))_{ij} = \\sum_{k} \\sum_{m} A_{ik} B_{km}C_{mj} $$\n",
    "\n",
    "\n",
    "\n"
   ]
  },
  {
   "cell_type": "markdown",
   "metadata": {},
   "source": [
    "We want to show they are equal so we exchange l for k\n",
    "\n",
    "$$ (A(BC))_{ij} = \\sum_{l} \\sum_{m} A_{il} B_{lm}C_{mj}  $$\n",
    "\n",
    "We then exchange m for k\n",
    "\n",
    "$$ (A(BC))_{ij} = \\sum_{l} \\sum_{k} A_{il} B_{lk}C_{kj} $$\n",
    "\n",
    "We can switch l and k around and we have \n",
    "\n",
    "\n",
    "$$ (A(BC))_{ij} = \\sum_{k} \\sum_{l} A_{il} B_{lk}C_{kj}  $$\n",
    "\n",
    "Which shows that $(A(BC))_{ij} = ((AB)C)_{ij}$"
   ]
  },
  {
   "cell_type": "markdown",
   "metadata": {},
   "source": [
    "**Problem 2:** Given that $A^{-1} A = I$ for an invertible matrix $A$, prove that $A A^{-1} = I$. \n",
    "\n",
    "In order to show we have \n",
    "\n",
    "$$ AA^{-1} = I $$\n",
    "$$ AA^{-1}A = I A$$\n",
    "$$ AZ = A $$\n",
    "\n",
    "where $Z = AA^{-1}$, here we see that $Z$ must be $I$ since we have\n",
    "\n",
    "$$ A Z = ZA = A \\implies Z = I  $$\n",
    "\n",
    "\n",
    "\n",
    "\n",
    "\n"
   ]
  },
  {
   "cell_type": "markdown",
   "metadata": {},
   "source": [
    "**Problem 3:** Show that $(AB)^* = B^* A^*$, where $^*$ indicates the Hermitian conjugate.\n",
    "\n",
    "To show this we have that the hermitian conjugate is given as \n",
    "\n",
    "$$ (AB)_{ij}^{*} \\equiv  \\overline{[(AB)_{ij}^{T}]} $$\n",
    "\n",
    "then we have\n",
    "\n",
    "$$  \\overline{[(AB)_{ij}^{T}]}  =  \\overline{[(B^{T}A^{T})_{ij}]} $$ \n",
    "$$ =  \\overline{B_{ik}^{T}A_{kj}^{T} } $$ \n",
    "$$ = \\overline{B_{ik}^{T}}  \\overline{A_{kj}}^{T} $$ \n",
    "$$ = B_{ik}^{*}A_{kj}^{*}  \\\\ = (B^{*}A^{*})_{ij}  $$\n"
   ]
  },
  {
   "cell_type": "markdown",
   "metadata": {},
   "source": [
    "\n",
    "**Problem 4:** Show that $(AB)^{-1} = B^{-1} A^{-1}$.\n",
    "\n",
    "To show this we do the following \n",
    "\n",
    "$$ (AB)(AB)^{-1} = I $$ \n",
    "$$ (A^{-1}AB)(AB)^{-1} = A^{-1} I $$ \n",
    "$$ (IB)(AB)^{-1} = A^{-1} $$\n",
    "$$ B(AB)^{-1} = A^{-1} $$ \n",
    "$$ B^{-1}B(AB)^{-1} = B^{-1}A^{-1} $$\n",
    "$$ I(AB)^{-1} = B^{-1}A^{-1} $$ \n",
    "$$ (AB)^{-1} = B^{-1}A^{-1} $$\n",
    "\n",
    "\n"
   ]
  },
  {
   "cell_type": "code",
   "execution_count": null,
   "metadata": {},
   "outputs": [],
   "source": []
  }
 ],
 "metadata": {
  "kernelspec": {
   "display_name": "Julia 0.6.4",
   "language": "julia",
   "name": "julia-0.6"
  },
  "language_info": {
   "file_extension": ".jl",
   "mimetype": "application/julia",
   "name": "julia",
   "version": "0.6.4"
  }
 },
 "nbformat": 4,
 "nbformat_minor": 2
}
