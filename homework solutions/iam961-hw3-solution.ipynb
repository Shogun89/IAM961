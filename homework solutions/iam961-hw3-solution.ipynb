{
 "cells": [
  {
   "cell_type": "markdown",
   "metadata": {},
   "source": [
    "# IAM 961 HW3\n",
    "\n",
    "## Problem 1: Rayleigh Quotient iteration\n",
    "\n",
    "Implement Rayleigh quotient iteration and demsontrate its convergence, as follows. \n",
    "Hint: develop and test your code using a small matrix (maybe 5 x 5). When you've got everything working, reset to a larger matrix (maybe 32 x 32, maybe 100 x 100) and recalculate from the beginning. \n",
    "\n",
    "Note: the line counts listed below are guidelines, not requirements. They're meant to let you know how roughly how much code each line should require. If you're writing more, you're working too hard. \n",
    "\n",
    "**Step 1**  Construct a random real symmetric $M \\times M$ matrix $A$ with random but known eigenvalues and eigenvectors. Hint: construct $A$ from a random orthogonal matrix $V$ and a known random diagonal matrix $D$. (4 lines of code)"
   ]
  },
  {
   "cell_type": "code",
   "execution_count": 23,
   "metadata": {},
   "outputs": [
    {
     "data": {
      "text/plain": [
       "gen_sym (generic function with 1 method)"
      ]
     },
     "execution_count": 23,
     "metadata": {},
     "output_type": "execute_result"
    }
   ],
   "source": [
    "function gen_sym(m)\n",
    "# Generates a random symmetric matrix with the given size m x m.\n",
    "# Inputs:\n",
    "# m - the size of the matrix\n",
    "# Outputs:\n",
    "# sym_mat - the symmetric matrix\n",
    "# Q - the orthogonal matrix from the QR decomposition of V ( a random matrix)\n",
    "# D - the random diagonal matrix\n",
    "    \n",
    "    # Generates a random vector ( sorted ) to use for the diagonal. \n",
    "    d = sort(rand(m), rev=true)\n",
    "    # Makes the diagonal matrix\n",
    "    D = diagm(d)\n",
    "    # Generates a random m x m matrix\n",
    "    V = rand(m,m)\n",
    "    Q,R = qr(V)\n",
    "    # Generates the symmetric matrix \n",
    "    sym_mat = Q*D*Q'\n",
    "    return sym_mat,D,Q\n",
    "end"
   ]
  },
  {
   "cell_type": "code",
   "execution_count": 24,
   "metadata": {},
   "outputs": [
    {
     "data": {
      "text/plain": [
       "is_sym (generic function with 1 method)"
      ]
     },
     "execution_count": 24,
     "metadata": {},
     "output_type": "execute_result"
    }
   ],
   "source": [
    "function is_sym(mat, tol)\n",
    "# Checks whether a matrix is symmetric within a given tolerance\n",
    "# Inputs:\n",
    "# mat - the (symmetric) matrix\n",
    "# tol -  a given tolernace\n",
    "# Outputs:\n",
    "# check - boolean value for whether the matrix is symmetric\n",
    "    sym = maximum(maximum(abs(mat-mat'))) \n",
    "    check = sym < tol\n",
    "    return check\n",
    "end"
   ]
  },
  {
   "cell_type": "code",
   "execution_count": 25,
   "metadata": {},
   "outputs": [
    {
     "name": "stderr",
     "output_type": "stream",
     "text": [
      "\u001b[1m\u001b[33mWARNING: \u001b[39m\u001b[22m\u001b[33mabs(x::AbstractArray{T}) where T <: Number is deprecated, use abs.(x) instead.\u001b[39m\n",
      "Stacktrace:\n",
      " [1] \u001b[1mdepwarn\u001b[22m\u001b[22m\u001b[1m(\u001b[22m\u001b[22m::String, ::Symbol\u001b[1m)\u001b[22m\u001b[22m at \u001b[1m./deprecated.jl:70\u001b[22m\u001b[22m\n",
      " [2] \u001b[1mabs\u001b[22m\u001b[22m\u001b[1m(\u001b[22m\u001b[22m::Array{Float64,2}\u001b[1m)\u001b[22m\u001b[22m at \u001b[1m./deprecated.jl:57\u001b[22m\u001b[22m\n",
      " [3] \u001b[1mis_sym\u001b[22m\u001b[22m\u001b[1m(\u001b[22m\u001b[22m::Array{Float64,2}, ::Float64\u001b[1m)\u001b[22m\u001b[22m at \u001b[1m./In[24]:8\u001b[22m\u001b[22m\n",
      " [4] \u001b[1minclude_string\u001b[22m\u001b[22m\u001b[1m(\u001b[22m\u001b[22m::String, ::String\u001b[1m)\u001b[22m\u001b[22m at \u001b[1m./loading.jl:522\u001b[22m\u001b[22m\n",
      " [5] \u001b[1mexecute_request\u001b[22m\u001b[22m\u001b[1m(\u001b[22m\u001b[22m::ZMQ.Socket, ::IJulia.Msg\u001b[1m)\u001b[22m\u001b[22m at \u001b[1m/srv/julia/pkg/v0.6/IJulia/src/execute_request.jl:193\u001b[22m\u001b[22m\n",
      " [6] \u001b[1m(::Compat.#inner#6{Array{Any,1},IJulia.#execute_request,Tuple{ZMQ.Socket,IJulia.Msg}})\u001b[22m\u001b[22m\u001b[1m(\u001b[22m\u001b[22m\u001b[1m)\u001b[22m\u001b[22m at \u001b[1m/srv/julia/pkg/v0.6/Compat/src/Compat.jl:125\u001b[22m\u001b[22m\n",
      " [7] \u001b[1meventloop\u001b[22m\u001b[22m\u001b[1m(\u001b[22m\u001b[22m::ZMQ.Socket\u001b[1m)\u001b[22m\u001b[22m at \u001b[1m/srv/julia/pkg/v0.6/IJulia/src/eventloop.jl:8\u001b[22m\u001b[22m\n",
      " [8] \u001b[1m(::IJulia.##13#16)\u001b[22m\u001b[22m\u001b[1m(\u001b[22m\u001b[22m\u001b[1m)\u001b[22m\u001b[22m at \u001b[1m./task.jl:335\u001b[22m\u001b[22m\n",
      "while loading In[25], in expression starting on line 4\n"
     ]
    },
    {
     "data": {
      "text/plain": [
       "true"
      ]
     },
     "execution_count": 25,
     "metadata": {},
     "output_type": "execute_result"
    }
   ],
   "source": [
    "m = 5\n",
    "rand_sym ,D,Q = gen_sym(m)\n",
    "tol = 1e-9\n",
    "sym_check = is_sym(rand_sym,tol)"
   ]
  },
  {
   "cell_type": "markdown",
   "metadata": {},
   "source": [
    "**Step 2** Select a diagonal element of $D$ and the corresponding column $V$, assigning them to variables $\\lambda_t$ and $v_t$ (subscript $t$ stands for \"true\"). Verify numerically that these are an eigenvalue/eigenvector pair. (3 or 4 lines of code). "
   ]
  },
  {
   "cell_type": "code",
   "execution_count": 26,
   "metadata": {},
   "outputs": [
    {
     "data": {
      "text/plain": [
       "check_eigs (generic function with 1 method)"
      ]
     },
     "execution_count": 26,
     "metadata": {},
     "output_type": "execute_result"
    }
   ],
   "source": [
    "function check_eigs(rand_sym, D, Q, eig_num, tol)\n",
    "# Determines whether the true eigenvalue and eigenvector are the same within a given tolerance\n",
    "# Inputs:\n",
    "# rand_sym - the (symmetric) matrix\n",
    "# D -  the diagonal matrix\n",
    "# Q - the orthogonal matrix from the QR decomposition of V ( a random matrix)\n",
    "# eig_num - the eigenvalue number \n",
    "# tol - tolerance to determine whether the true eigenvalue/eigenvector are the same\n",
    "# Outputs:\n",
    "# check - boolean value for whether the eigenvalues and eigenvectors are the same within tolerance\n",
    "# v_t  - the true eigenvector\n",
    "# lambda_t - the true eigenvalue\n",
    "    \n",
    "    # Gets the diagonal part of the diagonal matrix to get the true eigenvalue\n",
    "    d = diag(D)\n",
    "    lambda_t = d[eig_num]\n",
    "    # Gets the true eigenvector\n",
    "    v_t = Q[:,eig_num]\n",
    "    \n",
    "    # Performs the eigendecomposition\n",
    "    lambda, V = eigs(rand_sym)\n",
    "    lambda = real(lambda)[eig_num]\n",
    "    v = real(V)[:, eig_num]\n",
    "    # Checks whether v and lambda are v_t and lambda_t within tolerance\n",
    "    check1 = norm(v_t-v) < tol\n",
    "    check2 = norm(lambda_t - lambda) < tol\n",
    "    \n",
    "    check = check1 && check2\n",
    "    \n",
    "    return check, v_t, lambda_t\n",
    "    \n",
    "end"
   ]
  },
  {
   "cell_type": "code",
   "execution_count": 27,
   "metadata": {},
   "outputs": [
    {
     "name": "stderr",
     "output_type": "stream",
     "text": [
      "\u001b[1m\u001b[33mWARNING: \u001b[39m\u001b[22m\u001b[33mAdjusting nev from 6 to 3\u001b[39m\n"
     ]
    },
    {
     "data": {
      "text/plain": [
       "(true, [-0.57716, -0.497868, -0.387705, -0.508303, -0.101622], 0.6297433251231568)"
      ]
     },
     "execution_count": 27,
     "metadata": {},
     "output_type": "execute_result"
    }
   ],
   "source": [
    "eig_num = 1 \n",
    "eig_check, v_t,lambda_t = check_eigs(rand_sym, D, Q ,eig_num, tol)"
   ]
  },
  {
   "cell_type": "markdown",
   "metadata": {},
   "source": [
    "**Step 3** To get initial values for the Rayleigh quotient iteration, perturb the eigenvector by 20% or so, normalize it to unit length, and then evaluate the Rayleigh quotient. Use variable names $\\lambda$ and $v$. (4 lines of code)"
   ]
  },
  {
   "cell_type": "code",
   "execution_count": 28,
   "metadata": {},
   "outputs": [
    {
     "data": {
      "text/plain": [
       "perturbed (generic function with 1 method)"
      ]
     },
     "execution_count": 28,
     "metadata": {},
     "output_type": "execute_result"
    }
   ],
   "source": [
    "function perturbed(true_vec,perturbation )\n",
    "# Generates the perturbed eigenvector \n",
    "# Inputs:\n",
    "# perturbation - the amount to perturb the eigenvector\n",
    "# Outputs:\n",
    "# perturb_v - the perturbed eigenvector (normalized)\n",
    "    perturb_v = true_vec+ rand(m)*perturbation\n",
    "    perturb_v = perturb_v/norm(perturb_v)\n",
    "    \n",
    "    return perturb_v\n",
    "end"
   ]
  },
  {
   "cell_type": "code",
   "execution_count": 29,
   "metadata": {},
   "outputs": [
    {
     "data": {
      "text/plain": [
       "rayleigh (generic function with 1 method)"
      ]
     },
     "execution_count": 29,
     "metadata": {},
     "output_type": "execute_result"
    }
   ],
   "source": [
    "function rayleigh(A, x0, tol, numiter)\n",
    "# Finds the eigenvalues through the Rayleigh iteration \n",
    "# Inputs:\n",
    "# A - the matrix to find the eigenvector for \n",
    "# x0 - tolerance to find the eigenvector\n",
    "# tol - parameter from inverse iteration that is updated\n",
    "# numiter - a random initial vector\n",
    "# Ouputs:\n",
    "# sigma - parameter used in inverse iteration to accelerate convergence\n",
    "# x - the eigenvector (1st)\n",
    "# iter - the iteration it breaks on\n",
    "    m,n = size(A)\n",
    "    @assert( m == n, \"Matrix A is not square\")\n",
    "    I = eye(n,n)\n",
    "    sigma0 = 0\n",
    "    x = x0\n",
    "    \n",
    "    for i in range(1,numiter)\n",
    "        iter = i\n",
    "        sigma = dot(x,A*x)/norm(x)^2\n",
    "        xhat = (A-sigma*I)\\x\n",
    "        x = xhat/norm(xhat)\n",
    "        if norm((A- sigma*I)*x) < tol\n",
    "            return sigma, x, iter\n",
    "            \n",
    "        end\n",
    "        \n",
    "    end\n",
    "    \n",
    "    return sigma, x, iter\n",
    "end "
   ]
  },
  {
   "cell_type": "code",
   "execution_count": 30,
   "metadata": {},
   "outputs": [
    {
     "data": {
      "text/plain": [
       "(0.6297433251231571, [0.57716, 0.497868, 0.387705, 0.508303, 0.101622], 4)"
      ]
     },
     "execution_count": 30,
     "metadata": {},
     "output_type": "execute_result"
    }
   ],
   "source": [
    "mu = .5\n",
    "epsilon = 1e-13\n",
    "perturb_v = perturbed(v_t,0.2)\n",
    "sigma, x, iter = rayleigh(rand_sym, perturb_v, epsilon, 200)"
   ]
  },
  {
   "cell_type": "markdown",
   "metadata": {},
   "source": [
    "**Step 4** Now write a loop to do the Rayleigh quotient iteration. Stop when \n",
    "$\\| A v - \\lambda v\\| < 10^{-13}$. Before the loop and at each step, compute the norm of the error in both the eigenvalue and eigenvector, and save into a vector for later plotting. (10 lines of code)"
   ]
  },
  {
   "cell_type": "code",
   "execution_count": 31,
   "metadata": {},
   "outputs": [
    {
     "data": {
      "text/plain": [
       "rayleigh_mod (generic function with 1 method)"
      ]
     },
     "execution_count": 31,
     "metadata": {},
     "output_type": "execute_result"
    }
   ],
   "source": [
    "function rayleigh_mod(A, x0, tol, numiter,true_vec)\n",
    "# Finds the eigenvalues through the Rayleigh iteration \n",
    "# Inputs:\n",
    "# A - the matrix to find the eigenvector for \n",
    "# x0 - tolerance to find the eigenvector\n",
    "# tol - parameter from inverse iteration that is updated\n",
    "# numiter - a random initial vector\n",
    "# true_vec - the true eigenvector\n",
    "# Ouputs:\n",
    "# sigma - parameter used in inverse iteration to accelerate convergence\n",
    "# x - the eigenvector (1st)\n",
    "# iter - the iteration it breaks on\n",
    "    m,n = size(A)\n",
    "    @assert( m== n, \"Matrix A is not square\")\n",
    "    I = eye(n,n)\n",
    "    sigma0 = 0\n",
    "    x = x0\n",
    "    lambda = true_vec[1]\n",
    "    eigvec_error = zeros(numiter)\n",
    "    eigval_error = zeros(numiter)\n",
    "    for i in range(1,numiter)\n",
    "        iter = i\n",
    "        sigma = dot(x,A*x)/norm(x)^2\n",
    "        xhat = (A-sigma*I)\\x\n",
    "        x = xhat/norm(xhat)\n",
    "        eigvec_error[i] = norm(true_vec - x)\n",
    "        eigval_error[i] = norm(lambda - x[1])\n",
    "        if norm((A- sigma*I)*x) < tol\n",
    "            \n",
    "            return eigvec_error, eigval_error, iter\n",
    "            \n",
    "        end\n",
    "        \n",
    "    end\n",
    "    \n",
    "    return eigvec_error, eigval_error, iter\n",
    "end "
   ]
  },
  {
   "cell_type": "code",
   "execution_count": 42,
   "metadata": {},
   "outputs": [],
   "source": [
    "numiter =200\n",
    "eigvec_error, eigval_error, iter = rayleigh_mod(rand_sym, perturb_v, epsilon, numiter, v_t);"
   ]
  },
  {
   "cell_type": "markdown",
   "metadata": {},
   "source": [
    "**Step 5** Plot the errors in the eigenvalue and eigenvector as a function of the iteration number, together in one plot. The Rayleigh quotient iteration code takes about 3 lines of code, the plotting more. Don't forget to label your axes and provide a legend. \n",
    "(5 lines of code)."
   ]
  },
  {
   "cell_type": "code",
   "execution_count": 70,
   "metadata": {},
   "outputs": [
    {
     "data": {
      "text/plain": [
       "error_filter (generic function with 1 method)"
      ]
     },
     "execution_count": 70,
     "metadata": {},
     "output_type": "execute_result"
    }
   ],
   "source": [
    "function error_filter(array)\n",
    "# a filter for the error vectors \n",
    "# Inputs:\n",
    "# array - a vector\n",
    "# Outputs:\n",
    "# filtered_array - select non-zero elements which are less than 1\n",
    "    \n",
    "    filtered_array =filter( x -> x <1 && x != 0, array)\n",
    "    return filtered_array\n",
    "end"
   ]
  },
  {
   "cell_type": "code",
   "execution_count": 45,
   "metadata": {},
   "outputs": [],
   "source": [
    "using PyPlot"
   ]
  },
  {
   "cell_type": "code",
   "execution_count": 71,
   "metadata": {},
   "outputs": [
    {
     "data": {
      "text/plain": [
       "error_plot (generic function with 1 method)"
      ]
     },
     "execution_count": 71,
     "metadata": {},
     "output_type": "execute_result"
    }
   ],
   "source": [
    "function error_plot(eigvec_error, eigval_error)\n",
    "# plots the eigenevector and eigenvalue error\n",
    "    filtered_eigvec = error_filter(eigvec_error)\n",
    "    filtered_eigval = error_filter(eigval_error)\n",
    "    \n",
    "    l = length(filtered_eigvec)\n",
    "    my_range = 1:1:l\n",
    "    plot(my_range, filtered_eigvec)\n",
    "    plot(my_range, filtered_eigval)\n",
    "    title(\"Error vs # of Iterations\")\n",
    "    xlabel(\"Iterations\")\n",
    "    ylabel(\"Error\")\n",
    "    \n",
    "end\n",
    " "
   ]
  },
  {
   "cell_type": "code",
   "execution_count": 72,
   "metadata": {},
   "outputs": [
    {
     "data": {
      "image/png": "[encoded data removed]",
      "text/plain": [
       "PyPlot.Figure(PyObject <Figure size 640x480 with 1 Axes>)"
      ]
     },
     "metadata": {},
     "output_type": "display_data"
    },
    {
     "data": {
      "text/plain": [
       "PyObject Text(24.0, 0.5, 'Error')"
      ]
     },
     "execution_count": 72,
     "metadata": {},
     "output_type": "execute_result"
    }
   ],
   "source": [
    "error_plot(eigvec_error, eigval_error)"
   ]
  },
  {
   "cell_type": "markdown",
   "metadata": {},
   "source": [
    "**Questions** (a) Are you amazed, or what? (b) Can you confirm that the errors scale as stated on page 208 of Trefethen and Bau?"
   ]
  },
  {
   "cell_type": "markdown",
   "metadata": {},
   "source": [
    "(a) Yes\n",
    "(b) The scale looks correct"
   ]
  },
  {
   "cell_type": "markdown",
   "metadata": {},
   "source": [
    "## Problem 2: GMRES\n",
    "\n",
    "Implement GMRES and investigate its convergence as a function of the matrix condition number, as follows. \n",
    "\n",
    "**Step 1** Construct a random real $M \\times M$ matrix $A$ with condition $\\kappa$ and exponentially graded singular values $\\sigma_n = \\kappa^{-(n-1)/(M-1)}$. For testing start with $M=5$ and $\\kappa = 10^4$."
   ]
  },
  {
   "cell_type": "code",
   "execution_count": 64,
   "metadata": {},
   "outputs": [
    {
     "data": {
      "text/plain": [
       "random_cond_matrix (generic function with 1 method)"
      ]
     },
     "execution_count": 64,
     "metadata": {},
     "output_type": "execute_result"
    }
   ],
   "source": [
    "function random_cond_matrix(kappa,m)\n",
    "# Generates a random m x m matrix with given condition number\n",
    "# Inputs:\n",
    "# kappa -  the condition number\n",
    "# m - the size of the matrix\n",
    "# Outputs:\n",
    "# cond_matrix - the random matrix with given condition number\n",
    "\n",
    "    sigma_range = 0:1:m-1\n",
    "    sigma_k = -1.0*sigma_range/(m-1)\n",
    "    sigma_k = kappa.^sigma_k\n",
    "    S = diagm(sigma_k)\n",
    "    V = rand(m,m)\n",
    "    Q,R = qr(V)\n",
    "\n",
    "    cond_matrix = Q*S*Q'\n",
    "    return cond_matrix\n",
    "\n",
    "end"
   ]
  },
  {
   "cell_type": "code",
   "execution_count": 68,
   "metadata": {},
   "outputs": [],
   "source": [
    "kappa = 10^4\n",
    "m = 5\n",
    "\n",
    "A = random_cond_matrix(kappa, m);"
   ]
  },
  {
   "cell_type": "markdown",
   "metadata": {},
   "source": [
    "**Step 2** Let $x$ be a random M vector with normally-distributed components, and let $b = A x$."
   ]
  },
  {
   "cell_type": "code",
   "execution_count": 69,
   "metadata": {},
   "outputs": [
    {
     "data": {
      "text/plain": [
       "5-element Array{Float64,1}:\n",
       " 0.00996541\n",
       " 0.304966  \n",
       " 0.152349  \n",
       " 0.247785  \n",
       " 0.0253963 "
      ]
     },
     "execution_count": 69,
     "metadata": {},
     "output_type": "execute_result"
    }
   ],
   "source": [
    "x = rand(m)\n",
    "b = A*x;"
   ]
  },
  {
   "cell_type": "markdown",
   "metadata": {},
   "source": [
    "**Step 3** Implement GMRES iteration to approximate the solution of $Ax=b$ within the succession of Krylov subspaces. Save the normalized residual $\\| A x_n - b\\|/\\|b\\|$ and the normalized $x$ error $\\| x_n - x \\|$ at each step $n$ of the iteration for later plotting.\n",
    "\n",
    "Your GMRES code should go all the way to $n=M$ iterations. Your code should have a for-loop to handle iterations $n=1$ to $M-1$ followed by some special-case code to handle the last $n=M$th iterate, since the last iteration works a little differently. "
   ]
  },
  {
   "cell_type": "code",
   "execution_count": null,
   "metadata": {},
   "outputs": [],
   "source": []
  },
  {
   "cell_type": "markdown",
   "metadata": {},
   "source": [
    "**Step 4** Once your code is working (the residual is $10^{-14}$ or $10^{-15}$ at the last iterate), set $M$ to a moderately small number like 100 and produce two plots, one of residual versus $n$, and one of $x$ error versus $n$. On each plot, overlay results for $\\kappa=10^4$ and $\\kappa=10^{16}$."
   ]
  },
  {
   "cell_type": "markdown",
   "metadata": {},
   "source": [
    "Discuss your results. Is anything surprising? What can you explain about the behavior of the plots, given what you know about GMRES and $Ax=b$ problems in general?"
   ]
  },
  {
   "cell_type": "code",
   "execution_count": null,
   "metadata": {},
   "outputs": [],
   "source": []
  }
 ],
 "metadata": {
  "kernelspec": {
   "display_name": "Julia 0.6.4",
   "language": "julia",
   "name": "julia-0.6"
  },
  "language_info": {
   "file_extension": ".jl",
   "mimetype": "application/julia",
   "name": "julia",
   "version": "0.6.4"
  }
 },
 "nbformat": 4,
 "nbformat_minor": 2
}
